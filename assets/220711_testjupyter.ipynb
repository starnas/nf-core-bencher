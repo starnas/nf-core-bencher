{
 "cells": [
  {
   "cell_type": "code",
   "execution_count": null,
   "metadata": {},
   "outputs": [],
   "source": [
    "## set-up - importing and loading\n",
    "\n",
    "# imports\n",
    "import matplotlib.pyplot as plt\n",
    "import matplotlib as mpl\n",
    "import numpy as np\n",
    "import csv\n",
    "import warnings\n",
    "import sys\n",
    "import os\n",
    "import io\n",
    "\n",
    "# get rid of pesky warnings\n",
    "warnings.filterwarnings('ignore')\n",
    "\n",
    "# mosdepth processing function\n",
    "def process_mos(mos_file):\n",
    "  with open(mos_file, 'r') as f:\n",
    "    reader = csv.reader(f, delimiter='\\t')\n",
    "    headers = next(reader)\n",
    "    data = np.array(list(reader))\n",
    "\n",
    "    return(data)\n",
    "  \n",
    "# happy processing\n",
    "def process_hap(hap_file):\n",
    "  with open(hap_file, 'r') as f:\n",
    "    reader = csv.reader(f, delimiter=',')\n",
    "    headers = next(reader)\n",
    "    data = np.array(list(reader))\n",
    "\n",
    "    return(data)\n",
    "\n",
    "# data loading\n",
    "for f in data_path:\n",
    "\n",
    "  if f.endswith('.mosdepth.summary.txt'):\n",
    "    print(process_mos(input_dir + f))\n",
    "  elif f.endswith('.summary.csv'):\n",
    "    print(process_hap(input_dir + f))"
   ]
  }
 ],
 "metadata": {
  "interpreter": {
   "hash": "f24e86338152cc7d9cb8cfa98d02b0815de80d2de69a5c07e6ad79a4df646693"
  },
  "kernelspec": {
   "display_name": "Python 3.9.7 ('base')",
   "language": "python",
   "name": "python3"
  },
  "language_info": {
   "codemirror_mode": {
    "name": "ipython",
    "version": 3
   },
   "file_extension": ".py",
   "mimetype": "text/x-python",
   "name": "python",
   "nbconvert_exporter": "python",
   "pygments_lexer": "ipython3",
   "version": "3.9.7"
  }
 },
 "nbformat": 4,
 "nbformat_minor": 4
}
